{
 "cells": [
  {
   "cell_type": "markdown",
   "id": "e0dd8eba",
   "metadata": {},
   "source": [
    "# Question 1"
   ]
  },
  {
   "cell_type": "markdown",
   "id": "0fc64d49",
   "metadata": {},
   "source": [
    "## What value is displayed when the last expression (a) is evaluated? Explain your answer by indicating what happens in every executed statement."
   ]
  },
  {
   "cell_type": "code",
   "execution_count": 10,
   "id": "2d684d85",
   "metadata": {},
   "outputs": [
    {
     "data": {
      "text/plain": [
       "6"
      ]
     },
     "execution_count": 10,
     "metadata": {},
     "output_type": "execute_result"
    }
   ],
   "source": [
    "a = 0            \n",
    "def b():         \n",
    " global a      \n",
    " a = c(a)      \n",
    "def c(a):          \n",
    " return a + 2\n",
    "\n",
    "b() #b is called for the first time \n",
    "b() #b is called for the second time, a=a+2=4\n",
    "b() #b is called for the third time, a=a+2 i.e., 4+2=6\n",
    "a  "
   ]
  },
  {
   "cell_type": "markdown",
   "id": "74669ec3",
   "metadata": {},
   "source": [
    "# Question 2"
   ]
  },
  {
   "cell_type": "markdown",
   "id": "f1f00f1f",
   "metadata": {},
   "source": [
    "## As shown above, if the file cannot be found by the interpreter or if it cannot be read as a text file, an exception will be raised. Modify function fileLength() so that a friendly message is printed instead:\n",
    "\n"
   ]
  },
  {
   "cell_type": "code",
   "execution_count": 47,
   "id": "5ba883cb",
   "metadata": {},
   "outputs": [
    {
     "name": "stdout",
     "output_type": "stream",
     "text": [
      "123\n",
      "File Filelngth.txt not found.\n"
     ]
    }
   ],
   "source": [
    "def file_length(file):\n",
    "    \n",
    "    try:                          \n",
    "        file = open(file)\n",
    "        contents = file.read()\n",
    "        file.close()\n",
    "        print(len(contents))\n",
    "    \n",
    "    except:                       \n",
    "        print('File {} not found.'.format(file))\n",
    "file_length('Filelength.txt')\n",
    "file_length('Filelngth.txt')"
   ]
  },
  {
   "cell_type": "markdown",
   "id": "fac0bfdf",
   "metadata": {},
   "source": [
    "# Question 3"
   ]
  },
  {
   "cell_type": "markdown",
   "id": "6ba1538f",
   "metadata": {},
   "source": [
    "## Write a class named Marsupial that can be used as shown below:"
   ]
  },
  {
   "cell_type": "markdown",
   "id": "4dabb645",
   "metadata": {},
   "source": [
    "## >>> m = Marsupial()"
   ]
  },
  {
   "cell_type": "markdown",
   "id": "04e19173",
   "metadata": {},
   "source": [
    "## >>> m.put_in_pouch('doll')"
   ]
  },
  {
   "cell_type": "markdown",
   "id": "f673f497",
   "metadata": {},
   "source": [
    "## >>> m.put_in_pouch('firetruck')"
   ]
  },
  {
   "cell_type": "markdown",
   "id": "e7a2de20",
   "metadata": {},
   "source": [
    "## >>> m.put_in_pouch('kitten')\n"
   ]
  },
  {
   "cell_type": "markdown",
   "id": "14cb3355",
   "metadata": {},
   "source": [
    "## >>> m.pouch_contents()\n"
   ]
  },
  {
   "cell_type": "markdown",
   "id": "3b3bb766",
   "metadata": {},
   "source": [
    "## ['doll', 'firetruck', 'kitten']"
   ]
  },
  {
   "cell_type": "code",
   "execution_count": 51,
   "id": "19620529",
   "metadata": {},
   "outputs": [
    {
     "name": "stdout",
     "output_type": "stream",
     "text": [
      "I am a Kangaroo located at coordinates(3,0)\n"
     ]
    }
   ],
   "source": [
    "class Marsupial:          \n",
    "    def __init__(self,x,y):             \n",
    "        self.pouch=[]                        \n",
    "    def put_in_pouch(self,items): \n",
    "        self.pouch.append(items)   \n",
    "    def pouch_contents(self):          \n",
    "        return self.pouch\n",
    "\n",
    "class Kangaroo(Marsupial):              \n",
    "    def __init__(self,x,y):              \n",
    "        super().__init__(x,y)          \n",
    "        self.dx = 0                      \n",
    "        self.dy = 0                        \n",
    "    def jump(self,x,y):                 \n",
    "        self.dx = self.dx + x                \n",
    "        self.dy = self.dy + y\n",
    "    def __str__(self):                                                      \n",
    "        return ('I am a Kangaroo located at coordinates({},{})'.format(self.dx,self.dy))\n",
    "    \n",
    "    \n",
    "k = Kangaroo(0,0)    \n",
    "k.put_in_pouch('doll')\n",
    "k.put_in_pouch('firetruck')\n",
    "k.put_in_pouch('kitten')\n",
    "k.pouch_contents()\n",
    "k.jump(1,0)\n",
    "k.jump(1,0)\n",
    "k.jump(1,0)\n",
    "print(k)"
   ]
  },
  {
   "cell_type": "markdown",
   "id": "abc87a24",
   "metadata": {},
   "source": [
    "# Question 4"
   ]
  },
  {
   "cell_type": "markdown",
   "id": "9d18a3f3",
   "metadata": {},
   "source": [
    "## Write function collatz() that takes a positive integer x as input and prints the Collatz sequence starting at x. A Collatz sequence is obtained by repeatedly applying this rule to the previous number x in the sequence:\n"
   ]
  },
  {
   "cell_type": "markdown",
   "id": "1934e0d5",
   "metadata": {},
   "source": [
    "## x = {𝑥/2        𝑖𝑓 𝑥 𝑖𝑠 𝑒𝑣𝑒𝑛\n",
    "##        3𝑥 + 1   𝑖𝑓 𝑥 𝑖𝑠 o𝑑𝑑\n"
   ]
  },
  {
   "cell_type": "markdown",
   "id": "6feb0339",
   "metadata": {},
   "source": [
    "## Your function should stop when the sequence gets to number 1. Your implementation must be recursive, without any loops.\n"
   ]
  },
  {
   "cell_type": "code",
   "execution_count": 52,
   "id": "c3f677d5",
   "metadata": {},
   "outputs": [
    {
     "name": "stdout",
     "output_type": "stream",
     "text": [
      "10\n",
      "5\n",
      "16\n",
      "8\n",
      "4\n",
      "2\n",
      "1\n"
     ]
    }
   ],
   "source": [
    "def collatz(numb):\n",
    "    \n",
    "    if numb== 1:\n",
    "        print(int(numb))\n",
    "        \n",
    "    elif numb%2 == 0:\n",
    "            print(int(numb))\n",
    "            return collatz(numb/2)\n",
    "            \n",
    "    else:\n",
    "            print(int(numb))\n",
    "            collatz((3*numb) + 1)\n",
    "            \n",
    "collatz(10)"
   ]
  },
  {
   "cell_type": "markdown",
   "id": "ec6d8f48",
   "metadata": {},
   "source": [
    "# Question 5"
   ]
  },
  {
   "cell_type": "markdown",
   "id": "f9dd361a",
   "metadata": {},
   "source": [
    "## Write a recursive method binary() that takes a non-negative integer n and prints the binary representation of integer n.\n"
   ]
  },
  {
   "cell_type": "markdown",
   "id": "b5a53f81",
   "metadata": {},
   "source": [
    "## >>> binary(0)"
   ]
  },
  {
   "cell_type": "markdown",
   "id": "7e92f44c",
   "metadata": {},
   "source": [
    "## >>> binary(1)"
   ]
  },
  {
   "cell_type": "markdown",
   "id": "e322d21e",
   "metadata": {},
   "source": [
    "## >>> binary(3)"
   ]
  },
  {
   "cell_type": "markdown",
   "id": "150d1478",
   "metadata": {},
   "source": [
    "## >>> binary(9)"
   ]
  },
  {
   "cell_type": "code",
   "execution_count": 53,
   "id": "cb05cf60",
   "metadata": {},
   "outputs": [
    {
     "name": "stdout",
     "output_type": "stream",
     "text": [
      "1001"
     ]
    }
   ],
   "source": [
    "def binary(integer):    \n",
    "    if integer == 0:\n",
    "        return 0\n",
    "    else:\n",
    "        binary(integer//2)\n",
    "    print(integer % 2,end = '')\n",
    "\n",
    "\n",
    "binary(9)"
   ]
  },
  {
   "cell_type": "markdown",
   "id": "e215d6ec",
   "metadata": {},
   "source": [
    "# Question 6"
   ]
  },
  {
   "cell_type": "markdown",
   "id": "48ff5153",
   "metadata": {},
   "source": [
    "## Implement a class named HeadingParser that can be used to parse an HTML document, and retrieve and print all the headings in the document. You should implement your class as a subclass of HTMLParser, defined in Standard Library module html.parser. When fed a string containing HTML code, your class should print the headings, one per line and in the order in which they appear in the document. Each heading should be indented as follows: an h1 heading should have indentation 0, and h2 heading should have indentation 1, etc. Test your implementation using w3c.html.\n"
   ]
  },
  {
   "cell_type": "markdown",
   "id": "2e8121a3",
   "metadata": {},
   "source": [
    "##  >>> infile = open('w3c.html')"
   ]
  },
  {
   "cell_type": "markdown",
   "id": "23b32d59",
   "metadata": {},
   "source": [
    "## >>> content = infile.read()"
   ]
  },
  {
   "cell_type": "markdown",
   "id": "d65e4c87",
   "metadata": {},
   "source": [
    "## >>> infile.close()"
   ]
  },
  {
   "cell_type": "markdown",
   "id": "74fd584c",
   "metadata": {},
   "source": [
    "## >>> hp = HeadingParser()\n"
   ]
  },
  {
   "cell_type": "markdown",
   "id": "2f227b21",
   "metadata": {},
   "source": [
    "## >>> hp.feed(content)"
   ]
  },
  {
   "cell_type": "markdown",
   "id": "00a4c677",
   "metadata": {},
   "source": [
    "## W3C Mission"
   ]
  },
  {
   "cell_type": "markdown",
   "id": "93140727",
   "metadata": {},
   "source": [
    "##  Principles"
   ]
  },
  {
   "cell_type": "code",
   "execution_count": 55,
   "id": "cabedce2",
   "metadata": {},
   "outputs": [
    {
     "name": "stdout",
     "output_type": "stream",
     "text": [
      "  W3C Mission \n",
      "  \n",
      "\t \n",
      "   Principles \n",
      "   \n",
      " \n",
      "\n",
      "\n",
      " \n"
     ]
    }
   ],
   "source": [
    "from html.parser import HTMLParser           \n",
    "\n",
    "f = open(r'w3c.html')     \n",
    "a=str(f.read())\n",
    "\n",
    "class HeadingParser(HTMLParser):        \n",
    "  \n",
    "    def __init__(self):                    \n",
    "        HTMLParser.__init__(self)\n",
    "        self.flag = 0 \n",
    "    \n",
    "    def handle_starttag(self, tag, attrs):                     \n",
    "        \n",
    "        if tag == 'h1' or tag == 'h2' or tag == 'h3' or tag == 'h4' or tag=='h5' or tag == 'h6' or tag == 'h7':\n",
    "            self.flag += 1                                     \n",
    "        else:\n",
    "            self.flag = 0\n",
    "            \n",
    "    def handle_data(self, data):            \n",
    "        if self.flag and data!='\\n':\n",
    "            \n",
    "            print('{} {} '.format(self.flag*' ', data))\n",
    "\n",
    "\n",
    "parser = HeadingParser()                           \n",
    "parser.feed(a)"
   ]
  },
  {
   "cell_type": "markdown",
   "id": "307bcde4",
   "metadata": {},
   "source": [
    "# Question 7"
   ]
  },
  {
   "cell_type": "markdown",
   "id": "618729d9",
   "metadata": {},
   "source": [
    "## Implement recursive function webdir() that takes as input: a URL (as a string) and non-negative integers depth and indent. Your function should visit every web page reachable from the starting URL web page in depth clicks or less, and print each web page's URL. As shown below, indentation, specified by indent, should be used to indicate the depth of a URL."
   ]
  },
  {
   "cell_type": "code",
   "execution_count": 56,
   "id": "f9aa7276",
   "metadata": {},
   "outputs": [],
   "source": [
    "from urllib.parse import urljoin\n",
    "from urllib.request import urlopen\n",
    "from html.parser import HTMLParser\n",
    "\n",
    "class Collector(HTMLParser):  \n",
    "\n",
    "    def __init__(self, url): \n",
    "        HTMLParser.__init__(self)\n",
    "        self.url = url\n",
    "        self.links = []\n",
    "\n",
    "    def handle_starttag(self, tag, attrs): \n",
    "        if tag == 'a':\n",
    "            for attr in attrs:\n",
    "                if attr[0] == 'href':\n",
    "                    # construct absolute URL\n",
    "                    absolute = urljoin(self.url, attr[1])\n",
    "                    if absolute[:4] == 'http':\n",
    "                        self.links.append(absolute)\n",
    "                        \n",
    "    def getLinks(self): \n",
    "        return self.links\n"
   ]
  },
  {
   "cell_type": "code",
   "execution_count": 57,
   "id": "c67ea35f",
   "metadata": {},
   "outputs": [],
   "source": [
    "def webdir(url, depth, indent):\n",
    "    \n",
    "    \n",
    "    try:\n",
    "        depth_value = int(depth)\n",
    "        indent_value = int(indent)\n",
    "        \n",
    "        if depth_value < 0 or indent_value < 0:      \n",
    "            raise ValueError\n",
    "            \n",
    "        resource = urlopen(url)\n",
    "        content = resource.read().decode()\n",
    "        collector = Collector(url)\n",
    "        collector.feed(content)\n",
    "        links = collector.getLinks()                \n",
    "\n",
    "        if indent_value == 0:\n",
    "            print('{}'.format(url))\n",
    "\n",
    "        indent_value += 4\n",
    "        depth_value = depth_value-1\n",
    "        \n",
    "        if depth_value >= 0:\n",
    "            for link in links:                         \n",
    "                print('{}{}'.format(indent_value*' ', link), end = '\\n')\n",
    "                if (depth_value) > 0: \n",
    "                    webdir(link, depth_value, indent_value)          \n",
    "                \n",
    "    except ValueError:\n",
    "        print(\"Enter a correct value for depth or indent\")\n",
    "        "
   ]
  },
  {
   "cell_type": "code",
   "execution_count": 29,
   "id": "a277317a",
   "metadata": {},
   "outputs": [
    {
     "name": "stdout",
     "output_type": "stream",
     "text": [
      "http://reed.cs.depaul.edu/lperkovic/one.html\n",
      "    http://reed.cs.depaul.edu/lperkovic/two.html\n",
      "        http://reed.cs.depaul.edu/lperkovic/four.html\n",
      "    http://reed.cs.depaul.edu/lperkovic/three.html\n",
      "        http://reed.cs.depaul.edu/lperkovic/four.html\n"
     ]
    }
   ],
   "source": [
    "webdir('http://reed.cs.depaul.edu/lperkovic/one.html', 2, 0)\n",
    "     \n",
    "    ##https://reed.cs.depaul.edu/lperkovic/test1.html"
   ]
  },
  {
   "cell_type": "markdown",
   "id": "919e23b2",
   "metadata": {},
   "source": [
    "# Question 8"
   ]
  },
  {
   "cell_type": "markdown",
   "id": "d6c1a6b4",
   "metadata": {},
   "source": [
    "## Write SQL queries on the below database table that return:"
   ]
  },
  {
   "cell_type": "markdown",
   "id": "0ddbcfbc",
   "metadata": {},
   "source": [
    "## a) All the temperature data.\n"
   ]
  },
  {
   "cell_type": "markdown",
   "id": "d73275d8",
   "metadata": {},
   "source": [
    "## b) All the cities, but without repetition."
   ]
  },
  {
   "cell_type": "markdown",
   "id": "c7f0d206",
   "metadata": {},
   "source": [
    "## c) All the records for India."
   ]
  },
  {
   "cell_type": "markdown",
   "id": "a1fa1d11",
   "metadata": {},
   "source": [
    "## d) All the Fall records."
   ]
  },
  {
   "cell_type": "markdown",
   "id": "abb4d82d",
   "metadata": {},
   "source": [
    "## e) The city, country, and season for which the average rainfall is between 200 and 400 millimeters."
   ]
  },
  {
   "cell_type": "markdown",
   "id": "a8c33c0e",
   "metadata": {},
   "source": [
    "## f) The city and country for which the average Fall temperature is above 20 degrees, in increasing temperature order."
   ]
  },
  {
   "cell_type": "markdown",
   "id": "bfee5300",
   "metadata": {},
   "source": [
    "## g) The total annual rainfall for Cairo."
   ]
  },
  {
   "cell_type": "markdown",
   "id": "7ecbec7e",
   "metadata": {},
   "source": [
    "## h) The total rainfall for each season."
   ]
  },
  {
   "cell_type": "code",
   "execution_count": 2,
   "id": "89829774",
   "metadata": {},
   "outputs": [
    {
     "ename": "OperationalError",
     "evalue": "database is locked",
     "output_type": "error",
     "traceback": [
      "\u001b[1;31m---------------------------------------------------------------------------\u001b[0m",
      "\u001b[1;31mOperationalError\u001b[0m                          Traceback (most recent call last)",
      "Input \u001b[1;32mIn [2]\u001b[0m, in \u001b[0;36m<cell line: 4>\u001b[1;34m()\u001b[0m\n\u001b[0;32m      2\u001b[0m con \u001b[38;5;241m=\u001b[39m sqlite3\u001b[38;5;241m.\u001b[39mconnect(\u001b[38;5;124m'\u001b[39m\u001b[38;5;124mDBfile.db\u001b[39m\u001b[38;5;124m'\u001b[39m)\n\u001b[0;32m      3\u001b[0m cur \u001b[38;5;241m=\u001b[39m con\u001b[38;5;241m.\u001b[39mcursor()\n\u001b[1;32m----> 4\u001b[0m \u001b[43mcur\u001b[49m\u001b[38;5;241;43m.\u001b[39;49m\u001b[43mexecute\u001b[49m\u001b[43m(\u001b[49m\u001b[38;5;124;43m\"\u001b[39;49m\u001b[38;5;124;43mCREATE TABLE Climate (City text, Country text, Season text,Temperature float,Rainfall float)\u001b[39;49m\u001b[38;5;124;43m\"\u001b[39;49m\u001b[43m)\u001b[49m\n\u001b[0;32m      5\u001b[0m cur\u001b[38;5;241m.\u001b[39mexecute(\u001b[38;5;124m\"\u001b[39m\u001b[38;5;124mINSERT INTO Climate VALUES (\u001b[39m\u001b[38;5;124m'\u001b[39m\u001b[38;5;124mMumbai\u001b[39m\u001b[38;5;124m'\u001b[39m\u001b[38;5;124m, \u001b[39m\u001b[38;5;124m'\u001b[39m\u001b[38;5;124mIndia\u001b[39m\u001b[38;5;124m'\u001b[39m\u001b[38;5;124m, \u001b[39m\u001b[38;5;124m'\u001b[39m\u001b[38;5;124mWinter\u001b[39m\u001b[38;5;124m'\u001b[39m\u001b[38;5;124m,24.8,5.9)\u001b[39m\u001b[38;5;124m\"\u001b[39m)\n\u001b[0;32m      6\u001b[0m cur\u001b[38;5;241m.\u001b[39mexecute(\u001b[38;5;124m\"\u001b[39m\u001b[38;5;124mINSERT INTO Climate VALUES (\u001b[39m\u001b[38;5;124m'\u001b[39m\u001b[38;5;124mMumbai\u001b[39m\u001b[38;5;124m'\u001b[39m\u001b[38;5;124m, \u001b[39m\u001b[38;5;124m'\u001b[39m\u001b[38;5;124mIndia\u001b[39m\u001b[38;5;124m'\u001b[39m\u001b[38;5;124m, \u001b[39m\u001b[38;5;124m'\u001b[39m\u001b[38;5;124mSpring\u001b[39m\u001b[38;5;124m'\u001b[39m\u001b[38;5;124m,28.4,16.2)\u001b[39m\u001b[38;5;124m\"\u001b[39m)\n",
      "\u001b[1;31mOperationalError\u001b[0m: database is locked"
     ]
    }
   ],
   "source": [
    "import sqlite3\n",
    "con = sqlite3.connect('DBfile.db')\n",
    "cur = con.cursor()\n",
    "cur.execute(\"CREATE TABLE Climate (City text, Country text, Season text,Temperature float,Rainfall float)\")\n",
    "cur.execute(\"INSERT INTO Climate VALUES ('Mumbai', 'India', 'Winter',24.8,5.9)\")\n",
    "cur.execute(\"INSERT INTO Climate VALUES ('Mumbai', 'India', 'Spring',28.4,16.2)\")\n",
    "cur.execute(\"INSERT INTO Climate VALUES ('Mumbai', 'India', 'Summer',27.9,1549.4 )\")\n",
    "cur.execute(\"INSERT INTO Climate VALUES ('Mumbai', 'India', 'Fall',27.6,346.0)\")\n",
    "cur.execute(\"INSERT INTO Climate VALUES ('London', 'United Kingdom', 'Winter',4.2,207.7 )\")\n",
    "cur.execute(\"INSERT INTO Climate VALUES ('London', 'United Kingdom', 'Spring',8.3,169.6)\")\n",
    "cur.execute(\"INSERT INTO Climate VALUES ('London', 'United Kingdom', 'Summer',15.7,157.0)\")\n",
    "cur.execute(\"INSERT INTO Climate VALUES ('London', 'United Kingdom', 'Fall',10.4,218.5)\")\n",
    "cur.execute(\"INSERT INTO Climate VALUES ('Cairo', 'Egypt', 'Winter',13.6,16.5)\")\n",
    "cur.execute(\"INSERT INTO Climate VALUES ('Cairo', 'Egypt', 'Spring',20.7,6.5)\")\n",
    "cur.execute(\"INSERT INTO Climate VALUES ('Cairo', 'Egypt', 'Summer',27.7,0.1)\")\n",
    "cur.execute(\"INSERT INTO Climate VALUES ('Cairo', 'Egypt', 'Fall',22.2,4.5)\")"
   ]
  },
  {
   "cell_type": "code",
   "execution_count": 2,
   "id": "9d7e1e39",
   "metadata": {},
   "outputs": [
    {
     "data": {
      "text/plain": [
       "[('Mumbai', 'India', 'Winter', 24.8, 5.9),\n",
       " ('Mumbai', 'India', 'Spring', 28.4, 16.2),\n",
       " ('Mumbai', 'India', 'Summer', 27.9, 1549.4),\n",
       " ('Mumbai', 'India', 'Fall', 27.6, 346.0),\n",
       " ('London', 'United Kingdom', 'Winter', 4.2, 207.7),\n",
       " ('London', 'United Kingdom', 'Spring', 8.3, 169.6),\n",
       " ('London', 'United Kingdom', 'Summer', 15.7, 157.0),\n",
       " ('London', 'United Kingdom', 'Fall', 10.4, 218.5),\n",
       " ('Cairo', 'Egypt', 'Winter', 13.6, 16.5),\n",
       " ('Cairo', 'Egypt', 'Spring', 20.7, 6.5),\n",
       " ('Cairo', 'Egypt', 'Summer', 27.7, 0.1),\n",
       " ('Cairo', 'Egypt', 'Fall', 22.2, 4.5)]"
      ]
     },
     "execution_count": 2,
     "metadata": {},
     "output_type": "execute_result"
    }
   ],
   "source": [
    "cur.execute('SELECT * FROM Climate')\n",
    "cur.fetchall()"
   ]
  },
  {
   "cell_type": "code",
   "execution_count": 3,
   "id": "74a35ab5",
   "metadata": {},
   "outputs": [
    {
     "data": {
      "text/plain": [
       "[(24.8,),\n",
       " (28.4,),\n",
       " (27.9,),\n",
       " (27.6,),\n",
       " (4.2,),\n",
       " (8.3,),\n",
       " (15.7,),\n",
       " (10.4,),\n",
       " (13.6,),\n",
       " (20.7,),\n",
       " (27.7,),\n",
       " (22.2,)]"
      ]
     },
     "execution_count": 3,
     "metadata": {},
     "output_type": "execute_result"
    }
   ],
   "source": [
    "cur.execute('SELECT temperature FROM Climate')\n",
    "cur.fetchall()"
   ]
  },
  {
   "cell_type": "code",
   "execution_count": 4,
   "id": "84efa7ce",
   "metadata": {},
   "outputs": [
    {
     "data": {
      "text/plain": [
       "[('Mumbai',), ('London',), ('Cairo',)]"
      ]
     },
     "execution_count": 4,
     "metadata": {},
     "output_type": "execute_result"
    }
   ],
   "source": [
    "cur.execute('SELECT DISTINCT City FROM Climate')\n",
    "cur.fetchall()"
   ]
  },
  {
   "cell_type": "code",
   "execution_count": 1,
   "id": "febf904c",
   "metadata": {},
   "outputs": [
    {
     "ename": "NameError",
     "evalue": "name 'cur' is not defined",
     "output_type": "error",
     "traceback": [
      "\u001b[1;31m---------------------------------------------------------------------------\u001b[0m",
      "\u001b[1;31mNameError\u001b[0m                                 Traceback (most recent call last)",
      "Input \u001b[1;32mIn [1]\u001b[0m, in \u001b[0;36m<cell line: 1>\u001b[1;34m()\u001b[0m\n\u001b[1;32m----> 1\u001b[0m \u001b[43mcur\u001b[49m\u001b[38;5;241m.\u001b[39mexecute(\u001b[38;5;124m\"\u001b[39m\u001b[38;5;124mSELECT * FROM Climate WHERE Country=\u001b[39m\u001b[38;5;124m'\u001b[39m\u001b[38;5;124mIndia\u001b[39m\u001b[38;5;124m'\u001b[39m\u001b[38;5;124m\"\u001b[39m)\n\u001b[0;32m      2\u001b[0m cur\u001b[38;5;241m.\u001b[39mfetchall()\n",
      "\u001b[1;31mNameError\u001b[0m: name 'cur' is not defined"
     ]
    }
   ],
   "source": [
    "cur.execute(\"SELECT * FROM Climate WHERE Country='India'\")\n",
    "cur.fetchall()"
   ]
  },
  {
   "cell_type": "code",
   "execution_count": 6,
   "id": "2b952c3c",
   "metadata": {},
   "outputs": [
    {
     "data": {
      "text/plain": [
       "[('Mumbai', 'India', 'Fall', 27.6, 346.0),\n",
       " ('London', 'United Kingdom', 'Fall', 10.4, 218.5),\n",
       " ('Cairo', 'Egypt', 'Fall', 22.2, 4.5)]"
      ]
     },
     "execution_count": 6,
     "metadata": {},
     "output_type": "execute_result"
    }
   ],
   "source": [
    "cur.execute(\"SELECT * FROM Climate WHERE Season='Fall'\")\n",
    "cur.fetchall()"
   ]
  },
  {
   "cell_type": "code",
   "execution_count": 37,
   "id": "6ed68559",
   "metadata": {},
   "outputs": [
    {
     "data": {
      "text/plain": [
       "[('Mumbai', 'India', 'Fall'),\n",
       " ('London', 'United Kingdom', 'Winter'),\n",
       " ('London', 'United Kingdom', 'Fall')]"
      ]
     },
     "execution_count": 37,
     "metadata": {},
     "output_type": "execute_result"
    }
   ],
   "source": [
    "cur.execute(\"SELECT City,country,Season FROM Climate WHERE Rainfall BETWEEN 200 AND 400\")\n",
    "cur.fetchall()"
   ]
  },
  {
   "cell_type": "code",
   "execution_count": 7,
   "id": "ea070e00",
   "metadata": {},
   "outputs": [
    {
     "data": {
      "text/plain": [
       "[('Cairo', 'Egypt'), ('Mumbai', 'India')]"
      ]
     },
     "execution_count": 7,
     "metadata": {},
     "output_type": "execute_result"
    }
   ],
   "source": [
    "cur.execute(\"SELECT City,country FROM Climate WHERE Season='Fall' AND temperature > 20 ORDER BY temperature ASC\")\n",
    "cur.fetchall()"
   ]
  },
  {
   "cell_type": "code",
   "execution_count": 8,
   "id": "e45e941b",
   "metadata": {},
   "outputs": [
    {
     "data": {
      "text/plain": [
       "[(27.6,)]"
      ]
     },
     "execution_count": 8,
     "metadata": {},
     "output_type": "execute_result"
    }
   ],
   "source": [
    "cur.execute(\"SELECT SUM(Rainfall) FROM Climate WHERE City='Cairo'\")\n",
    "cur.fetchall()"
   ]
  },
  {
   "cell_type": "code",
   "execution_count": 9,
   "id": "e92e31c2",
   "metadata": {},
   "outputs": [
    {
     "data": {
      "text/plain": [
       "[(569.0,), (192.29999999999998,), (1706.5,), (230.1,)]"
      ]
     },
     "execution_count": 9,
     "metadata": {},
     "output_type": "execute_result"
    }
   ],
   "source": [
    "cur.execute(\"SELECT SUM(Rainfall) FROM Climate GROUP BY Season\")\n",
    "cur.fetchall()"
   ]
  },
  {
   "cell_type": "markdown",
   "id": "ef5f5786",
   "metadata": {},
   "source": [
    "# Question 9"
   ]
  },
  {
   "cell_type": "markdown",
   "id": "62d062c1",
   "metadata": {},
   "source": [
    "##  Suppose list words is defined as follows:\n"
   ]
  },
  {
   "cell_type": "markdown",
   "id": "c250cd0d",
   "metadata": {},
   "source": [
    "## >>> words = ['The', 'quick', 'brown', 'fox', 'jumps', 'over', 'the', 'lazy', 'dog']\n"
   ]
  },
  {
   "cell_type": "markdown",
   "id": "1a552ddb",
   "metadata": {},
   "source": [
    "## Write list comprehension expressions that use list words and generate the following lists:"
   ]
  },
  {
   "cell_type": "markdown",
   "id": "c35e9eb0",
   "metadata": {},
   "source": [
    "## a) ['THE', 'QUICK', 'BROWN', 'FOX', 'JUMPS', 'OVER', 'THE', 'LAZY', 'DOG']\n"
   ]
  },
  {
   "cell_type": "markdown",
   "id": "32a73c8d",
   "metadata": {},
   "source": [
    "## b) ['the', 'quick', 'brown', 'fox', 'jumps', 'over', 'the', 'lazy', 'dog']"
   ]
  },
  {
   "cell_type": "markdown",
   "id": "7be5d003",
   "metadata": {},
   "source": [
    "## c) [3, 5, 5, 3, 5, 4, 3, 4, 3] (the list of lengths of words in list words)."
   ]
  },
  {
   "cell_type": "markdown",
   "id": "44132122",
   "metadata": {},
   "source": [
    "## d) [['THE', 'the', 3], ['QUICK', 'quick', 5], ['BROWN', 'brown', 5], ['FOX', 'fox', 3], ['JUMPS', 'jumps', 5], ['OVER', 'over', 4], ['THE', 'the', 3], ['LAZY', 'lazy', 4], ['DOG', 'dog', 3]] (the list containing a list for every word of list words, where each list contains the word in uppercase and lowercase and the length of the word.)"
   ]
  },
  {
   "cell_type": "markdown",
   "id": "f3fed109",
   "metadata": {},
   "source": [
    "## e) ['The', 'quick', 'brown', 'fox', 'jumps', 'over', 'the', 'lazy', 'dog'] (the list of words in list words containing 4 or more characters.)"
   ]
  },
  {
   "cell_type": "code",
   "execution_count": 41,
   "id": "7471bdae",
   "metadata": {},
   "outputs": [
    {
     "name": "stdout",
     "output_type": "stream",
     "text": [
      "['THE', 'QUICK', 'BROWN', 'FOX', 'JUMPS', 'OVER', 'THE', 'LAZY', 'DOG']\n"
     ]
    }
   ],
   "source": [
    "list = ['The', 'quick', 'brown', 'fox', 'jumps', 'over', 'the', 'lazy', 'dog']\n",
    "\n",
    "Upperlist = [word.upper() for word in list]\n",
    "print(Upperlist)"
   ]
  },
  {
   "cell_type": "code",
   "execution_count": 42,
   "id": "cd96da63",
   "metadata": {},
   "outputs": [
    {
     "name": "stdout",
     "output_type": "stream",
     "text": [
      "['the', 'quick', 'brown', 'fox', 'jumps', 'over', 'the', 'lazy', 'dog']\n"
     ]
    }
   ],
   "source": [
    "Lowerlist = [word.lower() for word in list]\n",
    "print(Lowerlist)"
   ]
  },
  {
   "cell_type": "code",
   "execution_count": 43,
   "id": "0159d17f",
   "metadata": {},
   "outputs": [
    {
     "name": "stdout",
     "output_type": "stream",
     "text": [
      "[3, 5, 5, 3, 5, 4, 3, 4, 3]\n"
     ]
    }
   ],
   "source": [
    "Lengthlist = [ len(word) for word in list]\n",
    "print(Lengthlist)"
   ]
  },
  {
   "cell_type": "code",
   "execution_count": 44,
   "id": "4c959a7b",
   "metadata": {},
   "outputs": [
    {
     "name": "stdout",
     "output_type": "stream",
     "text": [
      "[['THE', 'the', 3], ['QUICK', 'quick', 5], ['BROWN', 'brown', 5], ['FOX', 'fox', 3], ['JUMPS', 'jumps', 5], ['OVER', 'over', 4], ['THE', 'the', 3], ['LAZY', 'lazy', 4], ['DOG', 'dog', 3]]\n"
     ]
    }
   ],
   "source": [
    "List = [ [word.upper(), word.lower(), len(word)] for word in list]\n",
    "print(List)"
   ]
  },
  {
   "cell_type": "code",
   "execution_count": 45,
   "id": "8468f61b",
   "metadata": {},
   "outputs": [
    {
     "name": "stdout",
     "output_type": "stream",
     "text": [
      "['quick', 'brown', 'jumps', 'over', 'lazy']\n"
     ]
    }
   ],
   "source": [
    "List4Words = [word for word in list if len(word)>= 4]\n",
    "print(List4Words)"
   ]
  },
  {
   "cell_type": "code",
   "execution_count": null,
   "id": "e8c1334a",
   "metadata": {},
   "outputs": [],
   "source": []
  }
 ],
 "metadata": {
  "kernelspec": {
   "display_name": "Python 3 (ipykernel)",
   "language": "python",
   "name": "python3"
  },
  "language_info": {
   "codemirror_mode": {
    "name": "ipython",
    "version": 3
   },
   "file_extension": ".py",
   "mimetype": "text/x-python",
   "name": "python",
   "nbconvert_exporter": "python",
   "pygments_lexer": "ipython3",
   "version": "3.9.12"
  }
 },
 "nbformat": 4,
 "nbformat_minor": 5
}
